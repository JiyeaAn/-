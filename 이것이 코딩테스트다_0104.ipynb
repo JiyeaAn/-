{
 "cells": [
  {
   "cell_type": "markdown",
   "id": "44cef983",
   "metadata": {},
   "source": [
    "## 예제 3-1. 거스름돈"
   ]
  },
  {
   "cell_type": "code",
   "execution_count": 1,
   "id": "e17acadd",
   "metadata": {},
   "outputs": [],
   "source": [
    "n = 1260\n",
    "count = 0"
   ]
  },
  {
   "cell_type": "code",
   "execution_count": 2,
   "id": "06136b46",
   "metadata": {},
   "outputs": [],
   "source": [
    "coin_type = [500, 100, 50, 10]"
   ]
  },
  {
   "cell_type": "code",
   "execution_count": 3,
   "id": "65c0f1ca",
   "metadata": {},
   "outputs": [
    {
     "name": "stdout",
     "output_type": "stream",
     "text": [
      "6\n"
     ]
    }
   ],
   "source": [
    "# += 연산자: 왼쪽 변수에 오른쪽 값을 더하고 그 결과를 왼쪽 변수에 할당한다.\n",
    "# %= 연산자: 왼쪽 변수에 오른쪽 값을 나눈 후 그 나머지를 왼쪽 변수에 할당한다.\n",
    "\n",
    "for coin in coin_type:\n",
    "    count += n//coin\n",
    "    n %= coin\n",
    "    \n",
    "print(count)"
   ]
  },
  {
   "cell_type": "markdown",
   "id": "df67c952",
   "metadata": {},
   "source": [
    "## 실전문제 3-2. 큰 수의 법칙"
   ]
  },
  {
   "cell_type": "code",
   "execution_count": 4,
   "id": "7ecb9994",
   "metadata": {},
   "outputs": [
    {
     "name": "stdout",
     "output_type": "stream",
     "text": [
      "5 8 3\n",
      "2 4 5 4 6\n"
     ]
    }
   ],
   "source": [
    "n, m, k = map(int, input().split())\n",
    "data = list(map(int, input().split()))"
   ]
  },
  {
   "cell_type": "code",
   "execution_count": 5,
   "id": "f6b72d01",
   "metadata": {},
   "outputs": [],
   "source": [
    "data.sort()\n",
    "first = data[n - 1]\n",
    "second = data[n - 2]\n",
    "\n",
    "result = 0"
   ]
  },
  {
   "cell_type": "code",
   "execution_count": 6,
   "id": "cd22b300",
   "metadata": {},
   "outputs": [
    {
     "name": "stdout",
     "output_type": "stream",
     "text": [
      "23\n",
      "46\n"
     ]
    }
   ],
   "source": [
    "while True:\n",
    "    for i in range(k):\n",
    "        if m == 0:\n",
    "            break\n",
    "        result += first\n",
    "        m -= 1\n",
    "    if m == 0:\n",
    "        break\n",
    "    result += second\n",
    "    m -= 1\n",
    "    \n",
    "    print(result)"
   ]
  },
  {
   "cell_type": "code",
   "execution_count": null,
   "id": "93ee35d2",
   "metadata": {},
   "outputs": [],
   "source": []
  },
  {
   "cell_type": "code",
   "execution_count": null,
   "id": "9a5d9fa5",
   "metadata": {},
   "outputs": [],
   "source": []
  }
 ],
 "metadata": {
  "kernelspec": {
   "display_name": "Python 3",
   "language": "python",
   "name": "python3"
  },
  "language_info": {
   "codemirror_mode": {
    "name": "ipython",
    "version": 3
   },
   "file_extension": ".py",
   "mimetype": "text/x-python",
   "name": "python",
   "nbconvert_exporter": "python",
   "pygments_lexer": "ipython3",
   "version": "3.8.8"
  }
 },
 "nbformat": 4,
 "nbformat_minor": 5
}
